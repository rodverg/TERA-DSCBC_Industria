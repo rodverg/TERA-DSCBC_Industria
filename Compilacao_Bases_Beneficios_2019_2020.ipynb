{
 "cells": [
  {
   "cell_type": "markdown",
   "id": "09721aa6",
   "metadata": {},
   "source": [
    "### Compilação das bases de benefícios concedidos entre jan/2019 e dez/2020"
   ]
  },
  {
   "cell_type": "code",
   "execution_count": null,
   "id": "c972240c",
   "metadata": {},
   "outputs": [],
   "source": [
    "# Carregando alguns módulos essenciais para trabalharmos os dados\n",
    "\n",
    "import warnings\n",
    "warnings.filterwarnings('ignore')\n",
    "\n",
    "import pandas as pd\n",
    "import numpy as np\n",
    "import scipy.stats as st\n",
    "import math\n",
    "import matplotlib.pyplot as plt\n",
    "%matplotlib inline\n",
    "import seaborn as sns\n",
    "\n",
    "\n",
    "# Algumas opções do Pandas boas para vermos muitas linhas e colunas de uma vez\n",
    "pd.options.display.max_rows = 999\n",
    "pd.options.display.max_columns = 999\n"
   ]
  },
  {
   "cell_type": "code",
   "execution_count": null,
   "id": "fe6c7b0b",
   "metadata": {},
   "outputs": [],
   "source": [
    "# Carregando os dados de 2019 no df dados_2019\n",
    "\n",
    "from glob import glob\n",
    "files = sorted(glob('concedidos-*-2019.csv'))\n",
    "\n",
    "dados_2019 = pd.concat((pd.read_csv(file,\n",
    "                       sep = \";\",\n",
    "                       header = 0,\n",
    "                       index_col = False,\n",
    "                       encoding = \"cp1252\") for file in files), ignore_index=True)"
   ]
  },
  {
   "cell_type": "code",
   "execution_count": 93,
   "id": "a5798d3c",
   "metadata": {},
   "outputs": [],
   "source": [
    "# Carregando os dados de 2020 no df dados_2020\n",
    "files = sorted(glob('beneficios-concedidos-*-2020.csv'))\n",
    "dados_2020 = pd.concat((pd.read_csv(file,\n",
    "                       sep = \";\",\n",
    "                       header = 0,\n",
    "                       index_col = False,\n",
    "                       encoding = None) for file in files), ignore_index=True)"
   ]
  },
  {
   "cell_type": "code",
   "execution_count": 98,
   "id": "d49dc417",
   "metadata": {},
   "outputs": [],
   "source": [
    "#Unindo os df de cada ano no df_benef\n",
    "df_benef = dados_2019.append(dados_2020 , ignore_index=True)"
   ]
  },
  {
   "cell_type": "code",
   "execution_count": 101,
   "id": "0d967d97",
   "metadata": {},
   "outputs": [
    {
     "data": {
      "text/plain": [
       "Index(['Competência concessão', 'Espécie', 'CID', 'CID.1', 'Despacho',\n",
       "       'Dt Nascimento', 'Sexo.', 'Clientela', 'Mun Resid',\n",
       "       'Vínculo dependentes', 'Forma Filiação', 'UF', 'Qt SM RMI', 'CID_1',\n",
       "       'mandar continuar, obrigado.'],\n",
       "      dtype='object')"
      ]
     },
     "execution_count": 101,
     "metadata": {},
     "output_type": "execute_result"
    }
   ],
   "source": [
    "df_benef.columns"
   ]
  },
  {
   "cell_type": "code",
   "execution_count": 102,
   "id": "1006b40f",
   "metadata": {},
   "outputs": [
    {
     "data": {
      "text/html": [
       "<div>\n",
       "<style scoped>\n",
       "    .dataframe tbody tr th:only-of-type {\n",
       "        vertical-align: middle;\n",
       "    }\n",
       "\n",
       "    .dataframe tbody tr th {\n",
       "        vertical-align: top;\n",
       "    }\n",
       "\n",
       "    .dataframe thead th {\n",
       "        text-align: right;\n",
       "    }\n",
       "</style>\n",
       "<table border=\"1\" class=\"dataframe\">\n",
       "  <thead>\n",
       "    <tr style=\"text-align: right;\">\n",
       "      <th></th>\n",
       "      <th>Competência concessão</th>\n",
       "      <th>Espécie</th>\n",
       "      <th>CID</th>\n",
       "      <th>CID.1</th>\n",
       "      <th>Despacho</th>\n",
       "      <th>Dt Nascimento</th>\n",
       "      <th>Sexo.</th>\n",
       "      <th>Clientela</th>\n",
       "      <th>Mun Resid</th>\n",
       "      <th>Vínculo dependentes</th>\n",
       "      <th>Forma Filiação</th>\n",
       "      <th>UF</th>\n",
       "      <th>Qt SM RMI</th>\n",
       "      <th>CID_1</th>\n",
       "      <th>mandar continuar, obrigado.</th>\n",
       "    </tr>\n",
       "  </thead>\n",
       "  <tbody>\n",
       "    <tr>\n",
       "      <th>0</th>\n",
       "      <td>janeiro/2019</td>\n",
       "      <td>Auxílio Doenca Previdenciário</td>\n",
       "      <td>I83</td>\n",
       "      <td>I83   Varizes dos Membros Infer</td>\n",
       "      <td>Concessao Normal</td>\n",
       "      <td>25/10/1967</td>\n",
       "      <td>Feminino</td>\n",
       "      <td>Urbano</td>\n",
       "      <td>02003-AL-Arapiraca</td>\n",
       "      <td>Filho</td>\n",
       "      <td>Empregado</td>\n",
       "      <td>Alagoas</td>\n",
       "      <td>1,068</td>\n",
       "      <td>NaN</td>\n",
       "      <td>NaN</td>\n",
       "    </tr>\n",
       "    <tr>\n",
       "      <th>1</th>\n",
       "      <td>janeiro/2019</td>\n",
       "      <td>Auxílio Doenca Previdenciário</td>\n",
       "      <td>S525</td>\n",
       "      <td>S52.5 Frat da Extremidade Distal do Radio</td>\n",
       "      <td>Conc. Base Artigo 27 Inciso Ii do Rbps</td>\n",
       "      <td>16/05/1994</td>\n",
       "      <td>Masculino</td>\n",
       "      <td>Urbano</td>\n",
       "      <td>02003-AL-Arapiraca</td>\n",
       "      <td>Não Informado</td>\n",
       "      <td>Empregado</td>\n",
       "      <td>Alagoas</td>\n",
       "      <td>1,099</td>\n",
       "      <td>NaN</td>\n",
       "      <td>NaN</td>\n",
       "    </tr>\n",
       "    <tr>\n",
       "      <th>2</th>\n",
       "      <td>janeiro/2019</td>\n",
       "      <td>Auxílio Doenca Previdenciário</td>\n",
       "      <td>N811</td>\n",
       "      <td>N81.1 Cistocele</td>\n",
       "      <td>Concessao Normal</td>\n",
       "      <td>03/03/1967</td>\n",
       "      <td>Feminino</td>\n",
       "      <td>Urbano</td>\n",
       "      <td>02003-AL-Arapiraca</td>\n",
       "      <td>Não Informado</td>\n",
       "      <td>Autônomo</td>\n",
       "      <td>Alagoas</td>\n",
       "      <td>1,000</td>\n",
       "      <td>NaN</td>\n",
       "      <td>NaN</td>\n",
       "    </tr>\n",
       "    <tr>\n",
       "      <th>3</th>\n",
       "      <td>janeiro/2019</td>\n",
       "      <td>Auxílio Doenca Previdenciário</td>\n",
       "      <td>O200</td>\n",
       "      <td>O20.0 Ameaca de Aborto</td>\n",
       "      <td>Concessao Normal</td>\n",
       "      <td>06/09/1986</td>\n",
       "      <td>Feminino</td>\n",
       "      <td>Urbano</td>\n",
       "      <td>02003-AL-Arapiraca</td>\n",
       "      <td>Filho</td>\n",
       "      <td>Desempregado</td>\n",
       "      <td>Alagoas</td>\n",
       "      <td>1,000</td>\n",
       "      <td>NaN</td>\n",
       "      <td>NaN</td>\n",
       "    </tr>\n",
       "    <tr>\n",
       "      <th>4</th>\n",
       "      <td>janeiro/2019</td>\n",
       "      <td>Auxílio Doenca Previdenciário</td>\n",
       "      <td>K80</td>\n",
       "      <td>K80   Colelitiase</td>\n",
       "      <td>Concessao Normal</td>\n",
       "      <td>23/06/1983</td>\n",
       "      <td>Feminino</td>\n",
       "      <td>Urbano</td>\n",
       "      <td>02003-AL-Arapiraca</td>\n",
       "      <td>Filho</td>\n",
       "      <td>Empregado</td>\n",
       "      <td>Alagoas</td>\n",
       "      <td>1,728</td>\n",
       "      <td>NaN</td>\n",
       "      <td>NaN</td>\n",
       "    </tr>\n",
       "  </tbody>\n",
       "</table>\n",
       "</div>"
      ],
      "text/plain": [
       "  Competência concessão                        Espécie   CID  \\\n",
       "0          janeiro/2019  Auxílio Doenca Previdenciário   I83   \n",
       "1          janeiro/2019  Auxílio Doenca Previdenciário  S525   \n",
       "2          janeiro/2019  Auxílio Doenca Previdenciário  N811   \n",
       "3          janeiro/2019  Auxílio Doenca Previdenciário  O200   \n",
       "4          janeiro/2019  Auxílio Doenca Previdenciário   K80   \n",
       "\n",
       "                                       CID.1  \\\n",
       "0            I83   Varizes dos Membros Infer   \n",
       "1  S52.5 Frat da Extremidade Distal do Radio   \n",
       "2                            N81.1 Cistocele   \n",
       "3                     O20.0 Ameaca de Aborto   \n",
       "4                          K80   Colelitiase   \n",
       "\n",
       "                                 Despacho Dt Nascimento      Sexo. Clientela  \\\n",
       "0                        Concessao Normal    25/10/1967   Feminino    Urbano   \n",
       "1  Conc. Base Artigo 27 Inciso Ii do Rbps    16/05/1994  Masculino    Urbano   \n",
       "2                        Concessao Normal    03/03/1967   Feminino    Urbano   \n",
       "3                        Concessao Normal    06/09/1986   Feminino    Urbano   \n",
       "4                        Concessao Normal    23/06/1983   Feminino    Urbano   \n",
       "\n",
       "            Mun Resid Vínculo dependentes Forma Filiação       UF Qt SM RMI  \\\n",
       "0  02003-AL-Arapiraca               Filho      Empregado  Alagoas     1,068   \n",
       "1  02003-AL-Arapiraca       Não Informado      Empregado  Alagoas     1,099   \n",
       "2  02003-AL-Arapiraca       Não Informado       Autônomo  Alagoas     1,000   \n",
       "3  02003-AL-Arapiraca               Filho   Desempregado  Alagoas     1,000   \n",
       "4  02003-AL-Arapiraca               Filho      Empregado  Alagoas     1,728   \n",
       "\n",
       "  CID_1  mandar continuar, obrigado.  \n",
       "0   NaN                          NaN  \n",
       "1   NaN                          NaN  \n",
       "2   NaN                          NaN  \n",
       "3   NaN                          NaN  \n",
       "4   NaN                          NaN  "
      ]
     },
     "execution_count": 102,
     "metadata": {},
     "output_type": "execute_result"
    }
   ],
   "source": [
    "df_benef.head()"
   ]
  },
  {
   "cell_type": "code",
   "execution_count": 103,
   "id": "54092bf2",
   "metadata": {},
   "outputs": [],
   "source": [
    "#Dropando as últimas colunas\n",
    "df_benef.drop(['CID_1', 'mandar continuar, obrigado.'], axis=1, inplace = True)"
   ]
  },
  {
   "cell_type": "code",
   "execution_count": 104,
   "id": "bcd987e9",
   "metadata": {},
   "outputs": [],
   "source": [
    "#Removendo as linhas cujas espécie não relação com Acidente de Trabalho\n",
    "\n",
    "df_benef = df_benef.loc[(df_benef['Espécie'] == 'Auxílio Doenca por Acidente do Trabalho')|\n",
    "                              (df_benef['Espécie'] == 'Aposent. Invalidez Acidente Trabalho')]"
   ]
  },
  {
   "cell_type": "code",
   "execution_count": 105,
   "id": "76bff4e2",
   "metadata": {},
   "outputs": [
    {
     "data": {
      "text/plain": [
       "(282520, 13)"
      ]
     },
     "execution_count": 105,
     "metadata": {},
     "output_type": "execute_result"
    }
   ],
   "source": [
    "df_benef.shape"
   ]
  },
  {
   "cell_type": "code",
   "execution_count": 106,
   "id": "bcdb11fb",
   "metadata": {},
   "outputs": [
    {
     "name": "stdout",
     "output_type": "stream",
     "text": [
      "<class 'pandas.core.frame.DataFrame'>\n",
      "Int64Index: 282520 entries, 27 to 10103532\n",
      "Data columns (total 13 columns):\n",
      " #   Column                 Non-Null Count   Dtype \n",
      "---  ------                 --------------   ----- \n",
      " 0   Competência concessão  270216 non-null  object\n",
      " 1   Espécie                282520 non-null  object\n",
      " 2   CID                    282520 non-null  object\n",
      " 3   CID.1                  206065 non-null  object\n",
      " 4   Despacho               282520 non-null  object\n",
      " 5   Dt Nascimento          282520 non-null  object\n",
      " 6   Sexo.                  282520 non-null  object\n",
      " 7   Clientela              146719 non-null  object\n",
      " 8   Mun Resid              282520 non-null  object\n",
      " 9   Vínculo dependentes    282520 non-null  object\n",
      " 10  Forma Filiação         282520 non-null  object\n",
      " 11  UF                     282520 non-null  object\n",
      " 12  Qt SM RMI              282520 non-null  object\n",
      "dtypes: object(13)\n",
      "memory usage: 30.2+ MB\n"
     ]
    }
   ],
   "source": [
    "df_benef.info()"
   ]
  },
  {
   "cell_type": "code",
   "execution_count": 107,
   "id": "e5ac7344",
   "metadata": {},
   "outputs": [],
   "source": [
    "#Salvando o dataframe\n",
    "df_benef.to_csv('benef_AcidenteTrabalho_raw.csv')"
   ]
  },
  {
   "cell_type": "code",
   "execution_count": 7,
   "id": "b3fcfac3",
   "metadata": {},
   "outputs": [],
   "source": [
    "#Lendo o arquivo para continuar o trabalho\n",
    "df_benef = pd.read_csv('benef_AcidenteTrabalho_raw.csv',\n",
    "                       header = 0,\n",
    "                       names = ['competencia', 'especie', 'cid', 'cid.1', 'despacho',\n",
    "                               'dt_nasc', 'sexo.', 'clientela', 'mun_resid',\n",
    "                               'vinculo_depend', 'forma_filiacao', 'uf', 'qt_sm_rmi'], \n",
    "                       index_col = 0,\n",
    "                       encoding = None)\n"
   ]
  },
  {
   "cell_type": "code",
   "execution_count": 8,
   "id": "4e45a76d",
   "metadata": {},
   "outputs": [
    {
     "data": {
      "text/html": [
       "<div>\n",
       "<style scoped>\n",
       "    .dataframe tbody tr th:only-of-type {\n",
       "        vertical-align: middle;\n",
       "    }\n",
       "\n",
       "    .dataframe tbody tr th {\n",
       "        vertical-align: top;\n",
       "    }\n",
       "\n",
       "    .dataframe thead th {\n",
       "        text-align: right;\n",
       "    }\n",
       "</style>\n",
       "<table border=\"1\" class=\"dataframe\">\n",
       "  <thead>\n",
       "    <tr style=\"text-align: right;\">\n",
       "      <th></th>\n",
       "      <th>competencia</th>\n",
       "      <th>especie</th>\n",
       "      <th>cid</th>\n",
       "      <th>cid.1</th>\n",
       "      <th>despacho</th>\n",
       "      <th>dt_nasc</th>\n",
       "      <th>sexo.</th>\n",
       "      <th>clientela</th>\n",
       "      <th>mun_resid</th>\n",
       "      <th>vinculo_depend</th>\n",
       "      <th>forma_filiacao</th>\n",
       "      <th>uf</th>\n",
       "      <th>qt_sm_rmi</th>\n",
       "    </tr>\n",
       "  </thead>\n",
       "  <tbody>\n",
       "    <tr>\n",
       "      <th>27</th>\n",
       "      <td>janeiro/2019</td>\n",
       "      <td>Auxílio Doenca por Acidente do Trabalho</td>\n",
       "      <td>M75</td>\n",
       "      <td>M75   Lesoes do Ombro</td>\n",
       "      <td>Concessao Normal</td>\n",
       "      <td>04/06/1978</td>\n",
       "      <td>Feminino</td>\n",
       "      <td>Urbano</td>\n",
       "      <td>02043-AL-Maceió</td>\n",
       "      <td>Filho</td>\n",
       "      <td>Empregado</td>\n",
       "      <td>Alagoas</td>\n",
       "      <td>1,000</td>\n",
       "    </tr>\n",
       "    <tr>\n",
       "      <th>33</th>\n",
       "      <td>janeiro/2019</td>\n",
       "      <td>Auxílio Doenca por Acidente do Trabalho</td>\n",
       "      <td>T92</td>\n",
       "      <td>T92   Sequelas de Traum do Membro Super</td>\n",
       "      <td>Concessao Normal</td>\n",
       "      <td>16/04/1987</td>\n",
       "      <td>Masculino</td>\n",
       "      <td>Urbano</td>\n",
       "      <td>02043-AL-Maceió</td>\n",
       "      <td>Não Informado</td>\n",
       "      <td>Empregado</td>\n",
       "      <td>Alagoas</td>\n",
       "      <td>1,382</td>\n",
       "    </tr>\n",
       "    <tr>\n",
       "      <th>35</th>\n",
       "      <td>janeiro/2019</td>\n",
       "      <td>Auxílio Doenca por Acidente do Trabalho</td>\n",
       "      <td>M544</td>\n",
       "      <td>M54.4 Lumbago c/Ciatica</td>\n",
       "      <td>Concessao Normal</td>\n",
       "      <td>01/01/1969</td>\n",
       "      <td>Masculino</td>\n",
       "      <td>Urbano</td>\n",
       "      <td>02023-AL-Coruripe</td>\n",
       "      <td>Não Informado</td>\n",
       "      <td>Empregado</td>\n",
       "      <td>Alagoas</td>\n",
       "      <td>1,331</td>\n",
       "    </tr>\n",
       "    <tr>\n",
       "      <th>41</th>\n",
       "      <td>janeiro/2019</td>\n",
       "      <td>Auxílio Doenca por Acidente do Trabalho</td>\n",
       "      <td>M544</td>\n",
       "      <td>M54.4 Lumbago c/Ciatica</td>\n",
       "      <td>Concessao Normal</td>\n",
       "      <td>10/10/1974</td>\n",
       "      <td>Masculino</td>\n",
       "      <td>Urbano</td>\n",
       "      <td>02003-AL-Arapiraca</td>\n",
       "      <td>Não Informado</td>\n",
       "      <td>Desempregado</td>\n",
       "      <td>Alagoas</td>\n",
       "      <td>1,461</td>\n",
       "    </tr>\n",
       "    <tr>\n",
       "      <th>47</th>\n",
       "      <td>janeiro/2019</td>\n",
       "      <td>Auxílio Doenca por Acidente do Trabalho</td>\n",
       "      <td>T922</td>\n",
       "      <td>T92.2 Sequelas de Frat ao Nivel do Punho e Da</td>\n",
       "      <td>Concessao Normal</td>\n",
       "      <td>19/05/1984</td>\n",
       "      <td>Masculino</td>\n",
       "      <td>Urbano</td>\n",
       "      <td>02043-AL-Maceió</td>\n",
       "      <td>Não Informado</td>\n",
       "      <td>Empregado</td>\n",
       "      <td>Alagoas</td>\n",
       "      <td>1,445</td>\n",
       "    </tr>\n",
       "  </tbody>\n",
       "</table>\n",
       "</div>"
      ],
      "text/plain": [
       "     competencia                                  especie   cid  \\\n",
       "27  janeiro/2019  Auxílio Doenca por Acidente do Trabalho   M75   \n",
       "33  janeiro/2019  Auxílio Doenca por Acidente do Trabalho   T92   \n",
       "35  janeiro/2019  Auxílio Doenca por Acidente do Trabalho  M544   \n",
       "41  janeiro/2019  Auxílio Doenca por Acidente do Trabalho  M544   \n",
       "47  janeiro/2019  Auxílio Doenca por Acidente do Trabalho  T922   \n",
       "\n",
       "                                            cid.1          despacho  \\\n",
       "27                          M75   Lesoes do Ombro  Concessao Normal   \n",
       "33        T92   Sequelas de Traum do Membro Super  Concessao Normal   \n",
       "35                        M54.4 Lumbago c/Ciatica  Concessao Normal   \n",
       "41                        M54.4 Lumbago c/Ciatica  Concessao Normal   \n",
       "47  T92.2 Sequelas de Frat ao Nivel do Punho e Da  Concessao Normal   \n",
       "\n",
       "       dt_nasc      sexo. clientela           mun_resid vinculo_depend  \\\n",
       "27  04/06/1978   Feminino    Urbano     02043-AL-Maceió          Filho   \n",
       "33  16/04/1987  Masculino    Urbano     02043-AL-Maceió  Não Informado   \n",
       "35  01/01/1969  Masculino    Urbano   02023-AL-Coruripe  Não Informado   \n",
       "41  10/10/1974  Masculino    Urbano  02003-AL-Arapiraca  Não Informado   \n",
       "47  19/05/1984  Masculino    Urbano     02043-AL-Maceió  Não Informado   \n",
       "\n",
       "   forma_filiacao       uf qt_sm_rmi  \n",
       "27      Empregado  Alagoas     1,000  \n",
       "33      Empregado  Alagoas     1,382  \n",
       "35      Empregado  Alagoas     1,331  \n",
       "41   Desempregado  Alagoas     1,461  \n",
       "47      Empregado  Alagoas     1,445  "
      ]
     },
     "execution_count": 8,
     "metadata": {},
     "output_type": "execute_result"
    }
   ],
   "source": [
    "df_benef.head()"
   ]
  },
  {
   "cell_type": "code",
   "execution_count": 24,
   "id": "1bd6c36e",
   "metadata": {},
   "outputs": [
    {
     "data": {
      "text/plain": [
       "1,000    34150\n",
       "1        15451\n",
       "1,191      295\n",
       "1,239      284\n",
       "1,196      282\n",
       "         ...  \n",
       "5,600        1\n",
       "5,333        1\n",
       "4,64         1\n",
       "5,892        1\n",
       "4,77         1\n",
       "Name: qt_sm_rmi, Length: 4929, dtype: int64"
      ]
     },
     "execution_count": 24,
     "metadata": {},
     "output_type": "execute_result"
    }
   ],
   "source": [
    "#Verificando dados com valores estranhos nas colunas e marcando eles como NaN\n",
    "\n",
    "df_benef['qt_sm_rmi'].value_counts(sort = True)"
   ]
  },
  {
   "cell_type": "code",
   "execution_count": 12,
   "id": "cf6be0a5",
   "metadata": {},
   "outputs": [],
   "source": [
    "subst = \"000000\"\n",
    "df_benef.cid.replace(subst, np.nan, inplace = True)"
   ]
  },
  {
   "cell_type": "code",
   "execution_count": 25,
   "id": "66c05082",
   "metadata": {},
   "outputs": [
    {
     "name": "stdout",
     "output_type": "stream",
     "text": [
      "<class 'pandas.core.frame.DataFrame'>\n",
      "Int64Index: 282520 entries, 27 to 10103532\n",
      "Data columns (total 13 columns):\n",
      " #   Column          Non-Null Count   Dtype \n",
      "---  ------          --------------   ----- \n",
      " 0   competencia     270216 non-null  object\n",
      " 1   especie         282520 non-null  object\n",
      " 2   cid             274564 non-null  object\n",
      " 3   cid.1           206065 non-null  object\n",
      " 4   despacho        282520 non-null  object\n",
      " 5   dt_nasc         282520 non-null  object\n",
      " 6   sexo.           282520 non-null  object\n",
      " 7   clientela       146719 non-null  object\n",
      " 8   mun_resid       282520 non-null  object\n",
      " 9   vinculo_depend  282520 non-null  object\n",
      " 10  forma_filiacao  282520 non-null  object\n",
      " 11  uf              282520 non-null  object\n",
      " 12  qt_sm_rmi       282520 non-null  object\n",
      "dtypes: object(13)\n",
      "memory usage: 30.2+ MB\n"
     ]
    }
   ],
   "source": [
    "df_benef.info()"
   ]
  },
  {
   "cell_type": "code",
   "execution_count": 26,
   "id": "fc9daba3",
   "metadata": {},
   "outputs": [],
   "source": [
    "#Salvando o dataframe com os valores nulos marcados\n",
    "df_benef.to_csv('benef_AcidenteTrabalho_com_NaNs.csv')"
   ]
  },
  {
   "cell_type": "code",
   "execution_count": 27,
   "id": "094a2368",
   "metadata": {},
   "outputs": [
    {
     "data": {
      "image/png": "[encoded data removed]",
      "text/plain": [
       "<Figure size 1800x720 with 2 Axes>"
      ]
     },
     "metadata": {
      "needs_background": "light"
     },
     "output_type": "display_data"
    }
   ],
   "source": [
    "#Verificando a distribuição dos valores nulos\n",
    "\n",
    "import missingno as msno\n",
    "msno.matrix(df_benef)\n",
    "plt.show()"
   ]
  },
  {
   "cell_type": "code",
   "execution_count": 28,
   "id": "cb25c3b2",
   "metadata": {},
   "outputs": [],
   "source": [
    "#Dropando as linhas com valores nulos na coluna cid\n",
    "df_benef = df_benef[df_benef['cid'].notna()]"
   ]
  },
  {
   "cell_type": "code",
   "execution_count": 30,
   "id": "08ed7298",
   "metadata": {},
   "outputs": [],
   "source": [
    "#Transformando a variável de valor do benefício em numérica\n",
    "\n",
    "df_benef[\"qt_sm_rmi\"] = df_benef[\"qt_sm_rmi\"].str.replace(\",\",\".\")\n",
    "\n",
    "df_benef[\"qt_sm_rmi\"] = df_benef.qt_sm_rmi.astype(float)\n"
   ]
  },
  {
   "cell_type": "code",
   "execution_count": 31,
   "id": "4daf1444",
   "metadata": {},
   "outputs": [
    {
     "name": "stdout",
     "output_type": "stream",
     "text": [
      "<class 'pandas.core.frame.DataFrame'>\n",
      "Int64Index: 274564 entries, 27 to 10103479\n",
      "Data columns (total 13 columns):\n",
      " #   Column          Non-Null Count   Dtype  \n",
      "---  ------          --------------   -----  \n",
      " 0   competencia     262568 non-null  object \n",
      " 1   especie         274564 non-null  object \n",
      " 2   cid             274564 non-null  object \n",
      " 3   cid.1           202200 non-null  object \n",
      " 4   despacho        274564 non-null  object \n",
      " 5   dt_nasc         274564 non-null  object \n",
      " 6   sexo.           274564 non-null  object \n",
      " 7   clientela       141419 non-null  object \n",
      " 8   mun_resid       274564 non-null  object \n",
      " 9   vinculo_depend  274564 non-null  object \n",
      " 10  forma_filiacao  274564 non-null  object \n",
      " 11  uf              274564 non-null  object \n",
      " 12  qt_sm_rmi       274564 non-null  float64\n",
      "dtypes: float64(1), object(12)\n",
      "memory usage: 29.3+ MB\n"
     ]
    }
   ],
   "source": [
    "df_benef.info()"
   ]
  },
  {
   "cell_type": "code",
   "execution_count": 26,
   "id": "9fd960fa",
   "metadata": {},
   "outputs": [],
   "source": [
    "#Salvando o dataframe sem os valores nulos\n",
    "df_benef.to_csv('benef_AcidenteTrabalho_sem_NaNs.csv')"
   ]
  },
  {
   "cell_type": "code",
   "execution_count": 2,
   "id": "04166da0",
   "metadata": {},
   "outputs": [],
   "source": [
    "#Lendo o arquivo para continuar o trabalho\n",
    "df_benef = pd.read_csv('benef_AcidenteTrabalho_sem_NaNs.csv',\n",
    "                       header = 0,\n",
    "                       names = ['competencia', 'especie', 'cid', 'cid.1', 'despacho',\n",
    "                               'dt_nasc', 'sexo', 'clientela', 'mun_resid',\n",
    "                               'vinculo_depend', 'forma_filiacao', 'uf', 'qt_sm_rmi'], \n",
    "                       index_col = 0,\n",
    "                       encoding = None)"
   ]
  },
  {
   "cell_type": "code",
   "execution_count": 3,
   "id": "21ef381b",
   "metadata": {},
   "outputs": [
    {
     "data": {
      "text/html": [
       "<div>\n",
       "<style scoped>\n",
       "    .dataframe tbody tr th:only-of-type {\n",
       "        vertical-align: middle;\n",
       "    }\n",
       "\n",
       "    .dataframe tbody tr th {\n",
       "        vertical-align: top;\n",
       "    }\n",
       "\n",
       "    .dataframe thead th {\n",
       "        text-align: right;\n",
       "    }\n",
       "</style>\n",
       "<table border=\"1\" class=\"dataframe\">\n",
       "  <thead>\n",
       "    <tr style=\"text-align: right;\">\n",
       "      <th></th>\n",
       "      <th>competencia</th>\n",
       "      <th>especie</th>\n",
       "      <th>cid</th>\n",
       "      <th>cid.1</th>\n",
       "      <th>despacho</th>\n",
       "      <th>dt_nasc</th>\n",
       "      <th>sexo</th>\n",
       "      <th>clientela</th>\n",
       "      <th>mun_resid</th>\n",
       "      <th>vinculo_depend</th>\n",
       "      <th>forma_filiacao</th>\n",
       "      <th>uf</th>\n",
       "      <th>qt_sm_rmi</th>\n",
       "    </tr>\n",
       "  </thead>\n",
       "  <tbody>\n",
       "    <tr>\n",
       "      <th>27</th>\n",
       "      <td>janeiro/2019</td>\n",
       "      <td>Auxílio Doenca por Acidente do Trabalho</td>\n",
       "      <td>M75</td>\n",
       "      <td>M75   Lesoes do Ombro</td>\n",
       "      <td>Concessao Normal</td>\n",
       "      <td>04/06/1978</td>\n",
       "      <td>Feminino</td>\n",
       "      <td>Urbano</td>\n",
       "      <td>02043-AL-Maceió</td>\n",
       "      <td>Filho</td>\n",
       "      <td>Empregado</td>\n",
       "      <td>Alagoas</td>\n",
       "      <td>1.000</td>\n",
       "    </tr>\n",
       "    <tr>\n",
       "      <th>33</th>\n",
       "      <td>janeiro/2019</td>\n",
       "      <td>Auxílio Doenca por Acidente do Trabalho</td>\n",
       "      <td>T92</td>\n",
       "      <td>T92   Sequelas de Traum do Membro Super</td>\n",
       "      <td>Concessao Normal</td>\n",
       "      <td>16/04/1987</td>\n",
       "      <td>Masculino</td>\n",
       "      <td>Urbano</td>\n",
       "      <td>02043-AL-Maceió</td>\n",
       "      <td>Não Informado</td>\n",
       "      <td>Empregado</td>\n",
       "      <td>Alagoas</td>\n",
       "      <td>1.382</td>\n",
       "    </tr>\n",
       "    <tr>\n",
       "      <th>35</th>\n",
       "      <td>janeiro/2019</td>\n",
       "      <td>Auxílio Doenca por Acidente do Trabalho</td>\n",
       "      <td>M544</td>\n",
       "      <td>M54.4 Lumbago c/Ciatica</td>\n",
       "      <td>Concessao Normal</td>\n",
       "      <td>01/01/1969</td>\n",
       "      <td>Masculino</td>\n",
       "      <td>Urbano</td>\n",
       "      <td>02023-AL-Coruripe</td>\n",
       "      <td>Não Informado</td>\n",
       "      <td>Empregado</td>\n",
       "      <td>Alagoas</td>\n",
       "      <td>1.331</td>\n",
       "    </tr>\n",
       "    <tr>\n",
       "      <th>41</th>\n",
       "      <td>janeiro/2019</td>\n",
       "      <td>Auxílio Doenca por Acidente do Trabalho</td>\n",
       "      <td>M544</td>\n",
       "      <td>M54.4 Lumbago c/Ciatica</td>\n",
       "      <td>Concessao Normal</td>\n",
       "      <td>10/10/1974</td>\n",
       "      <td>Masculino</td>\n",
       "      <td>Urbano</td>\n",
       "      <td>02003-AL-Arapiraca</td>\n",
       "      <td>Não Informado</td>\n",
       "      <td>Desempregado</td>\n",
       "      <td>Alagoas</td>\n",
       "      <td>1.461</td>\n",
       "    </tr>\n",
       "    <tr>\n",
       "      <th>47</th>\n",
       "      <td>janeiro/2019</td>\n",
       "      <td>Auxílio Doenca por Acidente do Trabalho</td>\n",
       "      <td>T922</td>\n",
       "      <td>T92.2 Sequelas de Frat ao Nivel do Punho e Da</td>\n",
       "      <td>Concessao Normal</td>\n",
       "      <td>19/05/1984</td>\n",
       "      <td>Masculino</td>\n",
       "      <td>Urbano</td>\n",
       "      <td>02043-AL-Maceió</td>\n",
       "      <td>Não Informado</td>\n",
       "      <td>Empregado</td>\n",
       "      <td>Alagoas</td>\n",
       "      <td>1.445</td>\n",
       "    </tr>\n",
       "  </tbody>\n",
       "</table>\n",
       "</div>"
      ],
      "text/plain": [
       "     competencia                                  especie   cid  \\\n",
       "27  janeiro/2019  Auxílio Doenca por Acidente do Trabalho   M75   \n",
       "33  janeiro/2019  Auxílio Doenca por Acidente do Trabalho   T92   \n",
       "35  janeiro/2019  Auxílio Doenca por Acidente do Trabalho  M544   \n",
       "41  janeiro/2019  Auxílio Doenca por Acidente do Trabalho  M544   \n",
       "47  janeiro/2019  Auxílio Doenca por Acidente do Trabalho  T922   \n",
       "\n",
       "                                            cid.1          despacho  \\\n",
       "27                          M75   Lesoes do Ombro  Concessao Normal   \n",
       "33        T92   Sequelas de Traum do Membro Super  Concessao Normal   \n",
       "35                        M54.4 Lumbago c/Ciatica  Concessao Normal   \n",
       "41                        M54.4 Lumbago c/Ciatica  Concessao Normal   \n",
       "47  T92.2 Sequelas de Frat ao Nivel do Punho e Da  Concessao Normal   \n",
       "\n",
       "       dt_nasc       sexo clientela           mun_resid vinculo_depend  \\\n",
       "27  04/06/1978   Feminino    Urbano     02043-AL-Maceió          Filho   \n",
       "33  16/04/1987  Masculino    Urbano     02043-AL-Maceió  Não Informado   \n",
       "35  01/01/1969  Masculino    Urbano   02023-AL-Coruripe  Não Informado   \n",
       "41  10/10/1974  Masculino    Urbano  02003-AL-Arapiraca  Não Informado   \n",
       "47  19/05/1984  Masculino    Urbano     02043-AL-Maceió  Não Informado   \n",
       "\n",
       "   forma_filiacao       uf  qt_sm_rmi  \n",
       "27      Empregado  Alagoas      1.000  \n",
       "33      Empregado  Alagoas      1.382  \n",
       "35      Empregado  Alagoas      1.331  \n",
       "41   Desempregado  Alagoas      1.461  \n",
       "47      Empregado  Alagoas      1.445  "
      ]
     },
     "execution_count": 3,
     "metadata": {},
     "output_type": "execute_result"
    }
   ],
   "source": [
    "df_benef.head()"
   ]
  },
  {
   "cell_type": "code",
   "execution_count": 3,
   "id": "17fc0ce8",
   "metadata": {},
   "outputs": [
    {
     "data": {
      "text/plain": [
       "(268766, 13)"
      ]
     },
     "execution_count": 3,
     "metadata": {},
     "output_type": "execute_result"
    }
   ],
   "source": [
    "df_benef.shape"
   ]
  },
  {
   "cell_type": "code",
   "execution_count": 21,
   "id": "567365e6",
   "metadata": {},
   "outputs": [
    {
     "data": {
      "text/plain": [
       "63"
      ]
     },
     "execution_count": 21,
     "metadata": {},
     "output_type": "execute_result"
    }
   ],
   "source": [
    "df_benef.loc[df_benef['cid'] == '      '].loc[df_benef['despacho'] == 'Concessao Normal'].cid.count()"
   ]
  },
  {
   "cell_type": "code",
   "execution_count": 22,
   "id": "70493819",
   "metadata": {},
   "outputs": [],
   "source": [
    "#Verificado que haviam ainda 5798 ocorrências de CID em branco na base de benefícios destes apenas 63 não eram revisões\n",
    "#administrativas ou judiciais. Como é uma parcela mínima serão removidos\n",
    "\n",
    "df_benef.drop(df_benef[df_benef.cid == '      '].index, inplace=True)"
   ]
  },
  {
   "cell_type": "code",
   "execution_count": 23,
   "id": "d1a32a9f",
   "metadata": {},
   "outputs": [
    {
     "data": {
      "text/plain": [
       "(268766, 13)"
      ]
     },
     "execution_count": 23,
     "metadata": {},
     "output_type": "execute_result"
    }
   ],
   "source": [
    "df_benef.shape"
   ]
  },
  {
   "cell_type": "code",
   "execution_count": 24,
   "id": "f84e365f",
   "metadata": {},
   "outputs": [
    {
     "data": {
      "text/html": [
       "<div>\n",
       "<style scoped>\n",
       "    .dataframe tbody tr th:only-of-type {\n",
       "        vertical-align: middle;\n",
       "    }\n",
       "\n",
       "    .dataframe tbody tr th {\n",
       "        vertical-align: top;\n",
       "    }\n",
       "\n",
       "    .dataframe thead th {\n",
       "        text-align: right;\n",
       "    }\n",
       "</style>\n",
       "<table border=\"1\" class=\"dataframe\">\n",
       "  <thead>\n",
       "    <tr style=\"text-align: right;\">\n",
       "      <th></th>\n",
       "      <th>qt_sm_rmi</th>\n",
       "    </tr>\n",
       "    <tr>\n",
       "      <th>cid</th>\n",
       "      <th></th>\n",
       "    </tr>\n",
       "  </thead>\n",
       "  <tbody>\n",
       "    <tr>\n",
       "      <th>00T932</th>\n",
       "      <td>1.141000</td>\n",
       "    </tr>\n",
       "    <tr>\n",
       "      <th>A000</th>\n",
       "      <td>1.000000</td>\n",
       "    </tr>\n",
       "    <tr>\n",
       "      <th>A001</th>\n",
       "      <td>1.203000</td>\n",
       "    </tr>\n",
       "    <tr>\n",
       "      <th>A04</th>\n",
       "      <td>1.065000</td>\n",
       "    </tr>\n",
       "    <tr>\n",
       "      <th>A09</th>\n",
       "      <td>1.082000</td>\n",
       "    </tr>\n",
       "    <tr>\n",
       "      <th>...</th>\n",
       "      <td>...</td>\n",
       "    </tr>\n",
       "    <tr>\n",
       "      <th>Z967</th>\n",
       "      <td>1.555000</td>\n",
       "    </tr>\n",
       "    <tr>\n",
       "      <th>Z97</th>\n",
       "      <td>1.000000</td>\n",
       "    </tr>\n",
       "    <tr>\n",
       "      <th>Z98</th>\n",
       "      <td>1.674886</td>\n",
       "    </tr>\n",
       "    <tr>\n",
       "      <th>Z981</th>\n",
       "      <td>1.838167</td>\n",
       "    </tr>\n",
       "    <tr>\n",
       "      <th>Z988</th>\n",
       "      <td>1.733175</td>\n",
       "    </tr>\n",
       "  </tbody>\n",
       "</table>\n",
       "<p>2943 rows × 1 columns</p>\n",
       "</div>"
      ],
      "text/plain": [
       "        qt_sm_rmi\n",
       "cid              \n",
       "00T932   1.141000\n",
       "A000     1.000000\n",
       "A001     1.203000\n",
       "A04      1.065000\n",
       "A09      1.082000\n",
       "...           ...\n",
       "Z967     1.555000\n",
       "Z97      1.000000\n",
       "Z98      1.674886\n",
       "Z981     1.838167\n",
       "Z988     1.733175\n",
       "\n",
       "[2943 rows x 1 columns]"
      ]
     },
     "execution_count": 24,
     "metadata": {},
     "output_type": "execute_result"
    }
   ],
   "source": [
    "#Verificando o valor mensal de benefício segunda cada CID\n",
    "df_benef.groupby([\"cid\"]).mean()"
   ]
  },
  {
   "cell_type": "code",
   "execution_count": null,
   "id": "e9aa440e",
   "metadata": {},
   "outputs": [],
   "source": [
    "#Salvando o dataframe sem os valores nulos\n",
    "df_benef.to_csv('benef_AcidenteTrabalho_sem_NaNs.csv')"
   ]
  }
 ],
 "metadata": {
  "kernelspec": {
   "display_name": "Python 3 (ipykernel)",
   "language": "python",
   "name": "python3"
  },
  "language_info": {
   "codemirror_mode": {
    "name": "ipython",
    "version": 3
   },
   "file_extension": ".py",
   "mimetype": "text/x-python",
   "name": "python",
   "nbconvert_exporter": "python",
   "pygments_lexer": "ipython3",
   "version": "3.8.8"
  }
 },
 "nbformat": 4,
 "nbformat_minor": 5
}
